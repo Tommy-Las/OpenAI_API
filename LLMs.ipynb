{
  "cells": [
    {
      "cell_type": "markdown",
      "metadata": {
        "id": "-c8kmPfxFWjZ"
      },
      "source": [
        "# SQL Chat GPT\n",
        "In this notebook, we will learn how to use a feature of langchain to turn Chat GPT into an agent knowledgeable about our database.\n",
        "\n",
        "For Chat GPT, context is everything. Therefore, if GPT has our database as context and reference, we can ask it questions related to the data.\n",
        "\n",
        "Langchain is a Python package with various useful integrations to use with Chat GPT. \n",
        "\n",
        "To access the data from our database, we need to provide GPT with a .db file containing the database information. We will use "
      ]
    },
    {
      "cell_type": "markdown",
      "metadata": {
        "id": "Uakk1zs4HXIG"
      },
      "source": [
        "Import the necessary langchain libraries for the project.\n",
        "\n"
      ]
    },
    {
      "cell_type": "code",
      "execution_count": 6,
      "metadata": {
        "id": "7J5kuJKi_qgu"
      },
      "outputs": [
        {
          "ename": "ModuleNotFoundError",
          "evalue": "No module named 'langchain_community'",
          "output_type": "error",
          "traceback": [
            "\u001b[0;31m---------------------------------------------------------------------------\u001b[0m",
            "\u001b[0;31mModuleNotFoundError\u001b[0m                       Traceback (most recent call last)",
            "Cell \u001b[0;32mIn[6], line 1\u001b[0m\n\u001b[0;32m----> 1\u001b[0m \u001b[38;5;28;01mfrom\u001b[39;00m \u001b[38;5;21;01mlangchain\u001b[39;00m\u001b[38;5;21;01m.\u001b[39;00m\u001b[38;5;21;01mllms\u001b[39;00m \u001b[38;5;28;01mimport\u001b[39;00m OpenAI\n\u001b[1;32m      2\u001b[0m \u001b[38;5;28;01mfrom\u001b[39;00m \u001b[38;5;21;01mlangchain\u001b[39;00m\u001b[38;5;21;01m.\u001b[39;00m\u001b[38;5;21;01mutilities\u001b[39;00m \u001b[38;5;28;01mimport\u001b[39;00m SQLDatabase\n\u001b[1;32m      3\u001b[0m \u001b[38;5;66;03m#from langchain_experimental.sql import SQLDatabaseChain\u001b[39;00m\n",
            "File \u001b[0;32m~/Documents/FootballAnalytics/Tasks/Module11/.venv/lib/python3.12/site-packages/langchain/llms/__init__.py:544\u001b[0m, in \u001b[0;36m__getattr__\u001b[0;34m(name)\u001b[0m\n\u001b[1;32m    543\u001b[0m \u001b[38;5;28;01mdef\u001b[39;00m \u001b[38;5;21m__getattr__\u001b[39m(name: \u001b[38;5;28mstr\u001b[39m) \u001b[38;5;241m-\u001b[39m\u001b[38;5;241m>\u001b[39m Any:\n\u001b[0;32m--> 544\u001b[0m     \u001b[38;5;28;01mfrom\u001b[39;00m \u001b[38;5;21;01mlangchain_community\u001b[39;00m \u001b[38;5;28;01mimport\u001b[39;00m llms\n\u001b[1;32m    546\u001b[0m     \u001b[38;5;66;03m# If not in interactive env, raise warning.\u001b[39;00m\n\u001b[1;32m    547\u001b[0m     \u001b[38;5;28;01mif\u001b[39;00m \u001b[38;5;129;01mnot\u001b[39;00m is_interactive_env():\n",
            "\u001b[0;31mModuleNotFoundError\u001b[0m: No module named 'langchain_community'"
          ]
        }
      ],
      "source": [
        "from langchain.llms import OpenAI\n",
        "from langchain.utilities import SQLDatabase\n",
        "from langchain_experimental.sql import SQLDatabaseChain\n"
      ]
    },
    {
      "cell_type": "markdown",
      "metadata": {
        "id": "iM490gdJHeyI"
      },
      "source": [
        "Store our OpenAI key as an environment variable and establish our connection to the OpenAI API."
      ]
    },
    {
      "cell_type": "code",
      "execution_count": 6,
      "metadata": {
        "colab": {
          "base_uri": "https://localhost:8080/"
        },
        "id": "RktvvaQQHeBD",
        "outputId": "4d825831-cf6a-4c98-bc05-5c823dcd7b01"
      },
      "outputs": [
        {
          "ename": "NameError",
          "evalue": "name 'OpenAI' is not defined",
          "output_type": "error",
          "traceback": [
            "\u001b[0;31m---------------------------------------------------------------------------\u001b[0m",
            "\u001b[0;31mNameError\u001b[0m                                 Traceback (most recent call last)",
            "Cell \u001b[0;32mIn[6], line 4\u001b[0m\n\u001b[1;32m      1\u001b[0m \u001b[38;5;28;01mimport\u001b[39;00m \u001b[38;5;21;01mos\u001b[39;00m\n\u001b[1;32m      3\u001b[0m \u001b[38;5;66;03m#os.environ['OPENAI_API_KEY'] = 'sk-proj-efe2vbgZEHT1ayhhoa8vT3BlbkFJGeOFBjmwbeCh4M4zoKgu'\u001b[39;00m\n\u001b[0;32m----> 4\u001b[0m client_gpt \u001b[38;5;241m=\u001b[39m \u001b[43mOpenAI\u001b[49m(temperature\u001b[38;5;241m=\u001b[39m\u001b[38;5;241m0\u001b[39m, verbose\u001b[38;5;241m=\u001b[39m\u001b[38;5;28;01mTrue\u001b[39;00m)\n",
            "\u001b[0;31mNameError\u001b[0m: name 'OpenAI' is not defined"
          ]
        }
      ],
      "source": [
        "import os\n",
        "\n",
        "#os.environ['OPENAI_API_KEY'] = 'sk-proj-efe2vbgZEHT1ayhhoa8vT3BlbkFJGeOFBjmwbeCh4M4zoKgu'\n",
        "client_gpt = OpenAI(temperature=0, verbose=True)"
      ]
    },
    {
      "cell_type": "markdown",
      "metadata": {
        "id": "myGBjXmjHliD"
      },
      "source": [
        "Load our database into a variable using the functions provided by langchain."
      ]
    },
    {
      "cell_type": "code",
      "execution_count": 17,
      "metadata": {
        "id": "p_lpVzuEHt2e"
      },
      "outputs": [],
      "source": [
        "base_dados = SQLDatabase.from_uri(\"sqlite:///englishfootball.db\")"
      ]
    },
    {
      "cell_type": "markdown",
      "metadata": {
        "id": "rwJVFG-QIC9m"
      },
      "source": [
        "Create the chain that connects our database to Chat GPT."
      ]
    },
    {
      "cell_type": "code",
      "execution_count": 18,
      "metadata": {
        "id": "xOK4eJ9cIH7g"
      },
      "outputs": [],
      "source": [
        "db_chain = SQLDatabaseChain.from_llm(client_gpt, base_dados, verbose=True)"
      ]
    },
    {
      "cell_type": "markdown",
      "metadata": {
        "id": "aIVrTZEiISYm"
      },
      "source": [
        "From now on, we can use the `db_chain.run` method to communicate with our database."
      ]
    },
    {
      "cell_type": "code",
      "execution_count": 19,
      "metadata": {
        "colab": {
          "base_uri": "https://localhost:8080/",
          "height": 323
        },
        "id": "wNZABpUs_A24",
        "outputId": "12596f44-3aee-4251-c703-687be41820b1"
      },
      "outputs": [
        {
          "name": "stdout",
          "output_type": "stream",
          "text": [
            "\n",
            "\n",
            "\u001b[1m> Entering new SQLDatabaseChain chain...\u001b[0m\n",
            "Who is the top scorer in the league?\n",
            "SQLQuery:\u001b[32;1m\u001b[1;3mSELECT appearances.team_id, teams.team_name, SUM(appearances.goals_for) AS total_goals\n",
            "FROM appearances\n",
            "INNER JOIN teams ON appearances.team_id = teams.team_id\n",
            "GROUP BY appearances.team_id\n",
            "ORDER BY total_goals DESC\n",
            "LIMIT 1;\u001b[0m\n",
            "SQLResult: \u001b[33;1m\u001b[1;3m[('T-022', 'Manchester United', 8141)]\u001b[0m\n",
            "Answer:\u001b[32;1m\u001b[1;3mThe top scorer in the league is Manchester United with 8141 goals.\u001b[0m\n",
            "\u001b[1m> Finished chain.\u001b[0m\n"
          ]
        },
        {
          "data": {
            "text/plain": [
              "'The top scorer in the league is Manchester United with 8141 goals.'"
            ]
          },
          "execution_count": 19,
          "metadata": {},
          "output_type": "execute_result"
        }
      ],
      "source": [
        "db_chain.run(\"Who is the top scorer in the league?\")"
      ]
    },
    {
      "cell_type": "code",
      "execution_count": null,
      "metadata": {
        "colab": {
          "base_uri": "https://localhost:8080/",
          "height": 250
        },
        "id": "xLnij3QEA234",
        "outputId": "1d56c7b1-9ddf-4d54-d9d3-a164f20b8fe2"
      },
      "outputs": [
        {
          "name": "stdout",
          "output_type": "stream",
          "text": [
            "\n",
            "\n",
            "\u001b[1m> Entering new SQLDatabaseChain chain...\u001b[0m\n",
            "Give me the 3 teams with the better defense \n",
            "SQLQuery:\u001b[32;1m\u001b[1;3mSELECT teams.team_name, standings.goals_against \n",
            "FROM teams \n",
            "INNER JOIN standings ON teams.team_id = standings.team_id \n",
            "ORDER BY standings.goals_against ASC \n",
            "LIMIT 3\u001b[0m\n",
            "SQLResult: \u001b[33;1m\u001b[1;3m[('Wigan Borough', 0), ('Aldershot', 0), ('Maidstone United', 0)]\u001b[0m\n",
            "Answer:\u001b[32;1m\u001b[1;3mWigan Borough, Aldershot, Maidstone United\u001b[0m\n",
            "\u001b[1m> Finished chain.\u001b[0m\n"
          ]
        },
        {
          "data": {
            "application/vnd.google.colaboratory.intrinsic+json": {
              "type": "string"
            },
            "text/plain": [
              "'Wigan Borough, Aldershot, Maidstone United'"
            ]
          },
          "execution_count": 10,
          "metadata": {},
          "output_type": "execute_result"
        }
      ],
      "source": [
        "db_chain.run(\"\"\"Give me the 3 teams with the better defense \"\"\")"
      ]
    },
    {
      "cell_type": "code",
      "execution_count": null,
      "metadata": {
        "colab": {
          "base_uri": "https://localhost:8080/",
          "height": 305
        },
        "id": "crMH1MdoBR1j",
        "outputId": "32afe487-de29-4b7a-8794-712b2939db49"
      },
      "outputs": [
        {
          "name": "stdout",
          "output_type": "stream",
          "text": [
            "\n",
            "\n",
            "\u001b[1m> Entering new SQLDatabaseChain chain...\u001b[0m\n",
            "Why do Wigan Borough, Aldershot, and Maidstone United have the best defense?\n",
            "SQLQuery:\u001b[32;1m\u001b[1;3mSELECT teams.team_name, standings.goals_against\n",
            "FROM teams\n",
            "INNER JOIN standings ON teams.team_id = standings.team_id\n",
            "WHERE teams.team_name IN ('Wigan Borough', 'Aldershot', 'Maidstone United')\n",
            "ORDER BY standings.goals_against ASC\n",
            "LIMIT 5\u001b[0m\n",
            "SQLResult: \u001b[33;1m\u001b[1;3m[('Wigan Borough', 0), ('Aldershot', 0), ('Maidstone United', 0), ('Aldershot', 38), ('Wigan Borough', 39)]\u001b[0m\n",
            "Answer:\u001b[32;1m\u001b[1;3mWigan Borough, Aldershot, and Maidstone United have the best defense because they have the lowest number of goals against in the standings table.\u001b[0m\n",
            "\u001b[1m> Finished chain.\u001b[0m\n"
          ]
        },
        {
          "data": {
            "application/vnd.google.colaboratory.intrinsic+json": {
              "type": "string"
            },
            "text/plain": [
              "'Wigan Borough, Aldershot, and Maidstone United have the best defense because they have the lowest number of goals against in the standings table.'"
            ]
          },
          "execution_count": 11,
          "metadata": {},
          "output_type": "execute_result"
        }
      ],
      "source": [
        "db_chain.run(\"\"\"Why do Wigan Borough, Aldershot, and Maidstone United have the best defense?\"\"\")"
      ]
    },
    {
      "cell_type": "code",
      "execution_count": null,
      "metadata": {
        "id": "hHWf31p-6wWv"
      },
      "outputs": [],
      "source": []
    }
  ],
  "metadata": {
    "colab": {
      "provenance": []
    },
    "kernelspec": {
      "display_name": "Python 3",
      "name": "python3"
    },
    "language_info": {
      "codemirror_mode": {
        "name": "ipython",
        "version": 3
      },
      "file_extension": ".py",
      "mimetype": "text/x-python",
      "name": "python",
      "nbconvert_exporter": "python",
      "pygments_lexer": "ipython3",
      "version": "3.12.2"
    }
  },
  "nbformat": 4,
  "nbformat_minor": 0
}
