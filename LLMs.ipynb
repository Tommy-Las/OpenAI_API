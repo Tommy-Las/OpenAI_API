{
  "cells": [
    {
      "cell_type": "markdown",
      "metadata": {
        "id": "-c8kmPfxFWjZ"
      },
      "source": [
        "# CSV Chat GPT\n",
        "In this notebook, we will learn how to use a feature of langchain to turn Chat GPT into an agent knowledgeable about our database.\n",
        "\n",
        "For Chat GPT, context is everything. Therefore, if GPT has our database as context and reference, we can ask it questions related to the data.\n",
        "\n",
        "Langchain is a Python package with various useful integrations to use with Chat GPT. \n",
        "\n",
        "To access the data from our database, we need to provide GPT with a pandas dataframe using data imported from a csv file. We will use FBRef data from the 23-24 season."
      ]
    },
    {
      "cell_type": "markdown",
      "metadata": {
        "id": "Uakk1zs4HXIG"
      },
      "source": [
        "Import the necessary langchain libraries for the project.\n",
        "\n"
      ]
    },
    {
      "cell_type": "code",
      "execution_count": 4,
      "metadata": {
        "id": "7J5kuJKi_qgu"
      },
      "outputs": [],
      "source": [
        "import pandas as pd\n",
        "from langchain.agents.agent_types import AgentType\n",
        "from langchain_openai import ChatOpenAI\n",
        "from langchain_experimental.agents.agent_toolkits import create_pandas_dataframe_agent"
      ]
    },
    {
      "cell_type": "markdown",
      "metadata": {},
      "source": [
        "Read the CSV we are going to use as our Database."
      ]
    },
    {
      "cell_type": "code",
      "execution_count": 59,
      "metadata": {},
      "outputs": [],
      "source": [
        "players_df = pd.read_csv(\"FBREF_BigPlayers_2324.csv\", delimiter=';')"
      ]
    },
    {
      "cell_type": "markdown",
      "metadata": {},
      "source": [
        "Create the LLM model and the Agent that will answer our questions"
      ]
    },
    {
      "cell_type": "code",
      "execution_count": 60,
      "metadata": {},
      "outputs": [],
      "source": [
        "model_name = \"gpt-3.5-turbo-0613\"\n",
        "\n",
        "llm = ChatOpenAI(\n",
        "    model=model_name,\n",
        "    temperature=0,\n",
        "    api_key='ENTER YOUR KEY HERE!'\n",
        ")\n",
        "\n",
        "agent = create_pandas_dataframe_agent(\n",
        "    llm,\n",
        "    players_df,\n",
        "    verbose=True,\n",
        "    agent_type=AgentType.OPENAI_FUNCTIONS,\n",
        ")"
      ]
    },
    {
      "cell_type": "markdown",
      "metadata": {},
      "source": [
        "1st Question"
      ]
    },
    {
      "cell_type": "code",
      "execution_count": null,
      "metadata": {},
      "outputs": [],
      "source": [
        "response = agent.invoke(\"Can you tell me the player name with the most goals for each league?\")\n"
      ]
    },
    {
      "cell_type": "markdown",
      "metadata": {},
      "source": [
        "2nd Question"
      ]
    },
    {
      "cell_type": "code",
      "execution_count": null,
      "metadata": {},
      "outputs": [],
      "source": [
        "response = agent.invoke(\"You are an expert football scout.\\\n",
        "    Using the given data, create a small report of the best performing defensive midfielders.\\\n",
        "        With moe than 10 matches played, and between 20 and 30 years old.\")\n"
      ]
    },
    {
      "cell_type": "markdown",
      "metadata": {},
      "source": [
        "3rd Question"
      ]
    },
    {
      "cell_type": "code",
      "execution_count": null,
      "metadata": {},
      "outputs": [],
      "source": [
        "response = agent.invoke(\"You are an expert football data analyst.\\\n",
        "    Write a small report of Lautaro Martinez season.\\\n",
        "    What are Lautaro Martinez main charasteristics and behaviour in the field?\\\n",
        "        Explain using metrics values from the given data.\")\n",
        "        "
      ]
    }
  ],
  "metadata": {
    "colab": {
      "provenance": []
    },
    "kernelspec": {
      "display_name": "Python 3",
      "name": "python3"
    },
    "language_info": {
      "codemirror_mode": {
        "name": "ipython",
        "version": 3
      },
      "file_extension": ".py",
      "mimetype": "text/x-python",
      "name": "python",
      "nbconvert_exporter": "python",
      "pygments_lexer": "ipython3",
      "version": "3.12.2"
    }
  },
  "nbformat": 4,
  "nbformat_minor": 0
}
