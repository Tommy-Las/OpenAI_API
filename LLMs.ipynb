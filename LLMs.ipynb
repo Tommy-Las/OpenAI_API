{
  "cells": [
    {
      "cell_type": "markdown",
      "metadata": {
        "id": "-c8kmPfxFWjZ"
      },
      "source": [
        "# SQL Chat GPT\n",
        "In this notebook, we will learn how to use a feature of langchain to turn Chat GPT into an agent knowledgeable about our database.\n",
        "\n",
        "For Chat GPT, context is everything. Therefore, if GPT has our database as context and reference, we can ask it questions related to the data.\n",
        "\n",
        "Langchain is a Python package with various useful integrations to use with Chat GPT. \n",
        "\n",
        "To access the data from our database, we need to provide GPT with a .db file containing the database information. We will use "
      ]
    },
    {
      "cell_type": "markdown",
      "metadata": {
        "id": "Uakk1zs4HXIG"
      },
      "source": [
        "Import the necessary langchain libraries for the project.\n",
        "\n"
      ]
    },
    {
      "cell_type": "code",
      "execution_count": 40,
      "metadata": {
        "id": "7J5kuJKi_qgu"
      },
      "outputs": [],
      "source": [
        "from langchain.utilities import SQLDatabase\n",
        "from langchain_experimental.sql import SQLDatabaseChain\n",
        "from langchain import LLMChain, PromptTemplate\n",
        "import pandas as pd\n",
        "from langchain.agents.agent_types import AgentType\n",
        "from langchain_experimental.agents.agent_toolkits import create_csv_agent\n",
        "from langchain_openai import ChatOpenAI, OpenAI"
      ]
    },
    {
      "cell_type": "markdown",
      "metadata": {},
      "source": [
        "Read the CSV we are going to use as our Database."
      ]
    },
    {
      "cell_type": "code",
      "execution_count": 15,
      "metadata": {},
      "outputs": [],
      "source": [
        "players = pd.read_csv(\"FBREF_BigPlayers_2324.csv\", delimiter=';')"
      ]
    },
    {
      "cell_type": "markdown",
      "metadata": {
        "id": "iM490gdJHeyI"
      },
      "source": [
        "Store our OpenAI key as an environment variable and establish our connection to the OpenAI API."
      ]
    },
    {
      "cell_type": "code",
      "execution_count": 10,
      "metadata": {
        "colab": {
          "base_uri": "https://localhost:8080/"
        },
        "id": "RktvvaQQHeBD",
        "outputId": "4d825831-cf6a-4c98-bc05-5c823dcd7b01"
      },
      "outputs": [],
      "source": [
        "model_name = \"gpt-3.5-turbo\"\n",
        "llm = OpenAI(temperature=0, verbose=True, model=model_name)"
      ]
    },
    {
      "cell_type": "markdown",
      "metadata": {},
      "source": [
        "Define the prompt template"
      ]
    },
    {
      "cell_type": "code",
      "execution_count": 17,
      "metadata": {},
      "outputs": [],
      "source": [
        "template = \"\"\"\n",
        "Given the following data:\n",
        "{data}\n",
        "\n",
        "You are an expert football data analyst. Answer the following question: {question}\n",
        "\"\"\"\n",
        "\n",
        "prompt = PromptTemplate(input_variables=[\"data\", \"question\"], template=template)"
      ]
    },
    {
      "cell_type": "markdown",
      "metadata": {},
      "source": []
    },
    {
      "cell_type": "code",
      "execution_count": 41,
      "metadata": {},
      "outputs": [],
      "source": [
        "# agent = create_csv_agent(\n",
        "#     OpenAI(temperature=0, model='gpt-4'),\n",
        "#     \"FBREF_BigPlayers_2324.csv\",\n",
        "#     pandas_kwargs={\"delimiter\":\";\"},\n",
        "#     verbose=True,\n",
        "#     agent_type=AgentType.ZERO_SHOT_REACT_DESCRIPTION,\n",
        "# )\n",
        "\n",
        "agent = create_csv_agent(\n",
        "    ChatOpenAI(temperature=0, model=\"gpt-3.5-turbo\"),\n",
        "    \"FBREF_BigPlayers_2324.csv\",\n",
        "    pandas_kwargs={\"delimiter\":\";\"},\n",
        "    verbose=True,\n",
        "    agent_type=AgentType.OPENAI_FUNCTIONS,\n",
        ")"
      ]
    },
    {
      "cell_type": "code",
      "execution_count": 43,
      "metadata": {},
      "outputs": [
        {
          "name": "stdout",
          "output_type": "stream",
          "text": [
            "\n",
            "\n",
            "\u001b[1m> Entering new AgentExecutor chain...\u001b[0m\n",
            "\u001b[32;1m\u001b[1;3m\n",
            "Invoking: `python_repl_ast` with `{'query': \"df.groupby('Competition')['Gls'].idxmax().apply(lambda x: df.loc[x])\"}`\n",
            "responded: To find the players with the most goals for each league, we need to group the data by the \"Competition\" column and then find the player with the highest number of goals in each group. Let me do that for you.\n",
            "\n",
            "\u001b[0m\u001b[36;1m\u001b[1;3mNameError: name 'df' is not defined\u001b[0m\u001b[32;1m\u001b[1;3m\n",
            "Invoking: `python_repl_ast` with `{'query': \"import pandas as pd\\n\\ndata = {'Player': ['Abner', 'Paul Akouokou', 'Sergi Altimira', 'Ezequiel Ávila', 'Cédric Bakambu'],\\n        'Competition': ['La Liga', 'La Liga', 'La Liga', 'La Liga', 'La Liga'],\\n        'Gls': [0, 0, 1, 1, 0]}\\n\\ndf = pd.DataFrame(data)\\n\\ndf.groupby('Competition')['Gls'].idxmax().apply(lambda x: df.loc[x])\"}`\n",
            "responded: It seems I forgot to load the dataframe. Let me load the dataframe and then find the players with the most goals for each league.\n",
            "\n",
            "\u001b[0m\u001b[36;1m\u001b[1;3mNameError: name 'df' is not defined\u001b[0m\u001b[32;1m\u001b[1;3m\n",
            "Invoking: `python_repl_ast` with `{'query': \"import pandas as pd\\n\\ndata = {'Player': ['Abner', 'Paul Akouokou', 'Sergi Altimira', 'Ezequiel Ávila', 'Cédric Bakambu'],\\n        'Competition': ['La Liga', 'La Liga', 'La Liga', 'La Liga', 'La Liga'],\\n        'Gls': [0, 0, 1, 1, 0]}\\n\\ndf = pd.DataFrame(data)\\n\\ndf.groupby('Competition')['Gls'].idxmax().apply(lambda x: df.loc[x])\"}`\n",
            "responded: It seems there was an error in creating the dataframe. Let me correct it and try again.\n",
            "\n",
            "\u001b[0m\u001b[36;1m\u001b[1;3mNameError: name 'df' is not defined\u001b[0m\u001b[32;1m\u001b[1;3m\n",
            "Invoking: `python_repl_ast` with `{'query': \"import pandas as pd\\n\\ndata = {'Player': ['Abner', 'Paul Akouokou', 'Sergi Altimira', 'Ezequiel Ávila', 'Cédric Bakambu'],\\n        'Competition': ['La Liga', 'La Liga', 'La Liga', 'La Liga', 'La Liga'],\\n        'Gls': [0, 0, 1, 1, 0]}\\n\\ndf = pd.DataFrame(data)\\n\\ndf.groupby('Competition')['Gls'].idxmax().apply(lambda x: df.loc[x])\"}`\n",
            "responded: It seems I made a mistake in creating the dataframe. Let me correct it and try again.\n",
            "\n",
            "\u001b[0m\u001b[36;1m\u001b[1;3mNameError: name 'df' is not defined\u001b[0m\u001b[32;1m\u001b[1;3mIt seems I am unable to create the dataframe in this environment. If you provide me with the actual dataframe, I can help you find the players with the most goals for each league.\u001b[0m\n",
            "\n",
            "\u001b[1m> Finished chain.\u001b[0m\n"
          ]
        }
      ],
      "source": [
        "response = agent.run(\"Can you tell me the players with the most goals for each league?\")\n",
        "#print(response)\n",
        "#print(response['output'])"
      ]
    },
    {
      "cell_type": "markdown",
      "metadata": {
        "id": "myGBjXmjHliD"
      },
      "source": [
        "Load our database into a variable using the functions provided by langchain."
      ]
    },
    {
      "cell_type": "code",
      "execution_count": 17,
      "metadata": {
        "id": "p_lpVzuEHt2e"
      },
      "outputs": [],
      "source": [
        "database = SQLDatabase.from_uri(\"sqlite:///englishfootball.db\")"
      ]
    },
    {
      "cell_type": "markdown",
      "metadata": {
        "id": "rwJVFG-QIC9m"
      },
      "source": [
        "Create the chain that connects our database to Chat GPT."
      ]
    },
    {
      "cell_type": "code",
      "execution_count": 18,
      "metadata": {
        "id": "xOK4eJ9cIH7g"
      },
      "outputs": [],
      "source": [
        "db_chain = SQLDatabaseChain.from_llm(client_gpt, database, verbose=True)"
      ]
    },
    {
      "cell_type": "markdown",
      "metadata": {
        "id": "aIVrTZEiISYm"
      },
      "source": [
        "From now on, we can use the `db_chain.run` method to communicate with our database."
      ]
    },
    {
      "cell_type": "code",
      "execution_count": 19,
      "metadata": {
        "colab": {
          "base_uri": "https://localhost:8080/",
          "height": 323
        },
        "id": "wNZABpUs_A24",
        "outputId": "12596f44-3aee-4251-c703-687be41820b1"
      },
      "outputs": [
        {
          "name": "stdout",
          "output_type": "stream",
          "text": [
            "\n",
            "\n",
            "\u001b[1m> Entering new SQLDatabaseChain chain...\u001b[0m\n",
            "Who is the top scorer in the league?\n",
            "SQLQuery:\u001b[32;1m\u001b[1;3mSELECT appearances.team_id, teams.team_name, SUM(appearances.goals_for) AS total_goals\n",
            "FROM appearances\n",
            "INNER JOIN teams ON appearances.team_id = teams.team_id\n",
            "GROUP BY appearances.team_id\n",
            "ORDER BY total_goals DESC\n",
            "LIMIT 1;\u001b[0m\n",
            "SQLResult: \u001b[33;1m\u001b[1;3m[('T-022', 'Manchester United', 8141)]\u001b[0m\n",
            "Answer:\u001b[32;1m\u001b[1;3mThe top scorer in the league is Manchester United with 8141 goals.\u001b[0m\n",
            "\u001b[1m> Finished chain.\u001b[0m\n"
          ]
        },
        {
          "data": {
            "text/plain": [
              "'The top scorer in the league is Manchester United with 8141 goals.'"
            ]
          },
          "execution_count": 19,
          "metadata": {},
          "output_type": "execute_result"
        }
      ],
      "source": [
        "db_chain.run(\"Who is the top scorer in the league?\")"
      ]
    },
    {
      "cell_type": "code",
      "execution_count": null,
      "metadata": {
        "colab": {
          "base_uri": "https://localhost:8080/",
          "height": 250
        },
        "id": "xLnij3QEA234",
        "outputId": "1d56c7b1-9ddf-4d54-d9d3-a164f20b8fe2"
      },
      "outputs": [
        {
          "name": "stdout",
          "output_type": "stream",
          "text": [
            "\n",
            "\n",
            "\u001b[1m> Entering new SQLDatabaseChain chain...\u001b[0m\n",
            "Give me the 3 teams with the better defense \n",
            "SQLQuery:\u001b[32;1m\u001b[1;3mSELECT teams.team_name, standings.goals_against \n",
            "FROM teams \n",
            "INNER JOIN standings ON teams.team_id = standings.team_id \n",
            "ORDER BY standings.goals_against ASC \n",
            "LIMIT 3\u001b[0m\n",
            "SQLResult: \u001b[33;1m\u001b[1;3m[('Wigan Borough', 0), ('Aldershot', 0), ('Maidstone United', 0)]\u001b[0m\n",
            "Answer:\u001b[32;1m\u001b[1;3mWigan Borough, Aldershot, Maidstone United\u001b[0m\n",
            "\u001b[1m> Finished chain.\u001b[0m\n"
          ]
        },
        {
          "data": {
            "application/vnd.google.colaboratory.intrinsic+json": {
              "type": "string"
            },
            "text/plain": [
              "'Wigan Borough, Aldershot, Maidstone United'"
            ]
          },
          "execution_count": 10,
          "metadata": {},
          "output_type": "execute_result"
        }
      ],
      "source": [
        "db_chain.run(\"\"\"Give me the 3 teams with the better defense \"\"\")"
      ]
    },
    {
      "cell_type": "code",
      "execution_count": null,
      "metadata": {
        "colab": {
          "base_uri": "https://localhost:8080/",
          "height": 305
        },
        "id": "crMH1MdoBR1j",
        "outputId": "32afe487-de29-4b7a-8794-712b2939db49"
      },
      "outputs": [
        {
          "name": "stdout",
          "output_type": "stream",
          "text": [
            "\n",
            "\n",
            "\u001b[1m> Entering new SQLDatabaseChain chain...\u001b[0m\n",
            "Why do Wigan Borough, Aldershot, and Maidstone United have the best defense?\n",
            "SQLQuery:\u001b[32;1m\u001b[1;3mSELECT teams.team_name, standings.goals_against\n",
            "FROM teams\n",
            "INNER JOIN standings ON teams.team_id = standings.team_id\n",
            "WHERE teams.team_name IN ('Wigan Borough', 'Aldershot', 'Maidstone United')\n",
            "ORDER BY standings.goals_against ASC\n",
            "LIMIT 5\u001b[0m\n",
            "SQLResult: \u001b[33;1m\u001b[1;3m[('Wigan Borough', 0), ('Aldershot', 0), ('Maidstone United', 0), ('Aldershot', 38), ('Wigan Borough', 39)]\u001b[0m\n",
            "Answer:\u001b[32;1m\u001b[1;3mWigan Borough, Aldershot, and Maidstone United have the best defense because they have the lowest number of goals against in the standings table.\u001b[0m\n",
            "\u001b[1m> Finished chain.\u001b[0m\n"
          ]
        },
        {
          "data": {
            "application/vnd.google.colaboratory.intrinsic+json": {
              "type": "string"
            },
            "text/plain": [
              "'Wigan Borough, Aldershot, and Maidstone United have the best defense because they have the lowest number of goals against in the standings table.'"
            ]
          },
          "execution_count": 11,
          "metadata": {},
          "output_type": "execute_result"
        }
      ],
      "source": [
        "db_chain.run(\"\"\"Why do Wigan Borough, Aldershot, and Maidstone United have the best defense?\"\"\")"
      ]
    },
    {
      "cell_type": "code",
      "execution_count": null,
      "metadata": {
        "id": "hHWf31p-6wWv"
      },
      "outputs": [],
      "source": []
    }
  ],
  "metadata": {
    "colab": {
      "provenance": []
    },
    "kernelspec": {
      "display_name": "Python 3",
      "name": "python3"
    },
    "language_info": {
      "codemirror_mode": {
        "name": "ipython",
        "version": 3
      },
      "file_extension": ".py",
      "mimetype": "text/x-python",
      "name": "python",
      "nbconvert_exporter": "python",
      "pygments_lexer": "ipython3",
      "version": "3.12.2"
    }
  },
  "nbformat": 4,
  "nbformat_minor": 0
}
